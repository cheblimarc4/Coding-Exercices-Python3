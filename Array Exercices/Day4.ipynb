{
 "cells": [
  {
   "cell_type": "code",
   "execution_count": null,
   "metadata": {},
   "outputs": [],
   "source": [
    "#Problem 4 : Search Insert Position\n",
    "class Solution:\n",
    "    def searchInsert(self, nums: List[int], target: int) -> int:\n",
    "        #We can use binary search in this problem \n",
    "        if target <= nums[0]:\n",
    "            return 0\n",
    "        elif target > nums[-1]:\n",
    "            return len(nums)\n",
    "        low = 0 \n",
    "        high = len(nums) - 1 \n",
    "        while low <= high:\n",
    "            mid = (high +low) // 2 \n",
    "            if nums[mid] == target:\n",
    "                return mid \n",
    "            if target > nums[mid] and target < nums[mid+1]:\n",
    "                return mid + 1 \n",
    "            elif target > nums[mid]:\n",
    "                low = mid + 1\n",
    "            else:\n",
    "                high = mid \n",
    "        return low + 1 "
   ]
  }
 ],
 "metadata": {
  "language_info": {
   "name": "python"
  },
  "orig_nbformat": 4
 },
 "nbformat": 4,
 "nbformat_minor": 2
}
