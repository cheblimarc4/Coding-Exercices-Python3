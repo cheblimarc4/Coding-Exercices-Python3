{
 "cells": [
  {
   "cell_type": "code",
   "execution_count": null,
   "metadata": {},
   "outputs": [],
   "source": [
    "#Problem7 : Plus One\n",
    "class Solution:\n",
    "    def plusOne(self, digits: List[int]) -> List[int]:\n",
    "        newarr = int(''.join(map(str,digits)))\n",
    "        newarr = newarr  + 1 \n",
    "        finalarr = [ ]\n",
    "        for num in str(newarr):\n",
    "            finalarr.append(int(num))\n",
    "        return finalarr"
   ]
  }
 ],
 "metadata": {
  "language_info": {
   "name": "python"
  },
  "orig_nbformat": 4
 },
 "nbformat": 4,
 "nbformat_minor": 2
}
