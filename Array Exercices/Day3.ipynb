{
 "cells": [
  {
   "cell_type": "code",
   "execution_count": null,
   "metadata": {},
   "outputs": [],
   "source": [
    "#Problem3 : Remove Element from Array\n",
    "class Solution:\n",
    "    def removeDuplicates(self, nums: List[int]) -> int:\n",
    "        if nums is None:\n",
    "            return 0 \n",
    "        l = 1\n",
    "        for r in range (1, len(nums)):\n",
    "            if nums[r]!= nums[r-1]:\n",
    "                nums[l] = nums[r]\n",
    "                l+=1\n",
    "        return l \n",
    "\n",
    "\n",
    "\n",
    "                "
   ]
  }
 ],
 "metadata": {
  "language_info": {
   "name": "python"
  },
  "orig_nbformat": 4
 },
 "nbformat": 4,
 "nbformat_minor": 2
}
