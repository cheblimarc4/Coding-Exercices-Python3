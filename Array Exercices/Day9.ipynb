{
 "cells": [
  {
   "cell_type": "code",
   "execution_count": null,
   "metadata": {},
   "outputs": [],
   "source": [
    "#Problem 9: Phone Combinations \n",
    "class Solution:\n",
    "    def letterCombinations(self, digits: str) -> List[str]:\n",
    "        if not digits:\n",
    "            return  \n",
    "        combinations=[]\n",
    "        phone={\"2\":\"abc\",\"3\":\"def\",\"4\":\"ghi\",\"5\":\"jkl\",\"6\":\"mno\",\"7\":\"pqrs\",\"8\":\"tuv\",\"9\":\"wxyz\"}\n",
    "        def backtrack(i,curstring):\n",
    "            if len(curstring)==len(digits):\n",
    "                combinations.append(curstring)\n",
    "                return\n",
    "            for char in phone[digits[i]]:\n",
    "                backtrack(i + 1,curstring + char)\n",
    "        if digits:\n",
    "            backtrack(0,\"\")\n",
    "        return combinations"
   ]
  }
 ],
 "metadata": {
  "kernelspec": {
   "display_name": "Python 3.9.13 ('base')",
   "language": "python",
   "name": "python3"
  },
  "language_info": {
   "name": "python",
   "version": "3.9.13"
  },
  "orig_nbformat": 4,
  "vscode": {
   "interpreter": {
    "hash": "8f8418c26b6c53a557ab4ea3f32f31544a12c3e56909713cece09a414daff694"
   }
  }
 },
 "nbformat": 4,
 "nbformat_minor": 2
}
