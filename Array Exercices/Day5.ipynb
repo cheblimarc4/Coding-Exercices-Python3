{
 "cells": [
  {
   "cell_type": "code",
   "execution_count": null,
   "metadata": {},
   "outputs": [],
   "source": [
    "#Problem 5 :Merge Sorted Array\n",
    "class Solution:\n",
    "    def merge(self, nums1: List[int], m: int, nums2: List[int], n: int) -> None:\n",
    "        last=m+n-1\n",
    "        while(m>0 and n>0):\n",
    "            if(nums1[m-1]>nums2[n-1]):\n",
    "                nums1[last]=nums1[m-1]\n",
    "                m-=1\n",
    "            else:\n",
    "                nums1[last]=nums2[n-1]\n",
    "                n-=1\n",
    "            last-=1\n",
    "        while(n>0):\n",
    "            nums1[last]=nums2[n-1]\n",
    "            n-=1\n",
    "            last-=1"
   ]
  }
 ],
 "metadata": {
  "language_info": {
   "name": "python"
  },
  "orig_nbformat": 4
 },
 "nbformat": 4,
 "nbformat_minor": 2
}
