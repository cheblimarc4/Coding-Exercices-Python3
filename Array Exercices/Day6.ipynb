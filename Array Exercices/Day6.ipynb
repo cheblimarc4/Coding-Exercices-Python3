{
 "cells": [
  {
   "cell_type": "code",
   "execution_count": null,
   "metadata": {},
   "outputs": [],
   "source": [
    "    #Problem 6 : Single Number uning xor \n",
    "class Solution:\n",
    "    def singleNumber(self, nums: List[int]) -> int:\n",
    "        result = 0 \n",
    "        for num in nums:\n",
    "            result^= num \n",
    "        return result "
   ]
  }
 ],
 "metadata": {
  "language_info": {
   "name": "python"
  },
  "orig_nbformat": 4
 },
 "nbformat": 4,
 "nbformat_minor": 2
}
