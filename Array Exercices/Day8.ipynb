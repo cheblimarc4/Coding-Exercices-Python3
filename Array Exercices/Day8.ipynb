{
 "cells": [
  {
   "cell_type": "code",
   "execution_count": null,
   "metadata": {},
   "outputs": [],
   "source": [
    "#Problem8: Majority Element \n",
    "class Solution:\n",
    "    def majorityElement(self, nums: List[int]) -> int:\n",
    "\n",
    "        hashTable = {}\n",
    "        for num in nums:\n",
    "            if num not in hashTable:\n",
    "                hashTable[num] = 1 \n",
    "            else:\n",
    "                hashTable[num]+=1\n",
    "\n",
    "        for num in nums:\n",
    "            if hashTable[num] > len(nums) / 2 :\n",
    "                return num "
   ]
  }
 ],
 "metadata": {
  "language_info": {
   "name": "python"
  },
  "orig_nbformat": 4
 },
 "nbformat": 4,
 "nbformat_minor": 2
}
